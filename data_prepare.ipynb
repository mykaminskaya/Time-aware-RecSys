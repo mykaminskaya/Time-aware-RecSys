{
  "nbformat": 4,
  "nbformat_minor": 0,
  "metadata": {
    "colab": {
      "name": "data_prepare.ipynb",
      "provenance": []
    },
    "kernelspec": {
      "name": "python3",
      "display_name": "Python 3"
    },
    "language_info": {
      "name": "python"
    }
  },
  "cells": [
    {
      "cell_type": "code",
      "execution_count": 1,
      "metadata": {
        "id": "XnmOTkBVO6u9"
      },
      "outputs": [],
      "source": [
        "import pandas as pd\n",
        "import numpy as np\n",
        "from datetime import datetime"
      ]
    },
    {
      "cell_type": "code",
      "source": [
        "from google.colab import drive\n",
        "\n",
        "drive.mount('/content/drive')"
      ],
      "metadata": {
        "colab": {
          "base_uri": "https://localhost:8080/"
        },
        "id": "2S67gdJtPrd1",
        "outputId": "fa62c280-bfe8-49d9-f743-8726dd05595d"
      },
      "execution_count": 2,
      "outputs": [
        {
          "output_type": "stream",
          "name": "stdout",
          "text": [
            "Mounted at /content/drive\n"
          ]
        }
      ]
    },
    {
      "cell_type": "code",
      "source": [
        "#Загружаем исходные датасеты\n",
        "train = pd.read_csv('drive/My Drive/repos/ReChorus/data/amazon_electronics/train.csv', sep='\\t').loc[:, ['user_id', 'item_id', 'time']]\n",
        "test = pd.read_csv('drive/My Drive/repos/ReChorus/data/amazon_electronics/test.csv', sep='\\t').loc[:, ['user_id', 'item_id', 'time', 'neg_items']]\n",
        "dev = pd.read_csv('drive/My Drive/repos/ReChorus/data/amazon_electronics/dev.csv', sep='\\t').loc[:, ['user_id', 'item_id', 'time', 'neg_items']]"
      ],
      "metadata": {
        "id": "AVHnMJQxPl8v"
      },
      "execution_count": 6,
      "outputs": []
    },
    {
      "cell_type": "code",
      "source": [
        "#Вычисляем временные интервалы между интеракциями одного пользователя\n",
        "test.index = np.arange(train.shape[0], train.shape[0]+test.shape[0])\n",
        "dev.index = np.arange(train.shape[0]+test.shape[0], train.shape[0]+test.shape[0]+dev.shape[0])\n",
        "\n",
        "all_data = pd.concat([train, test, dev]).sort_values('time')\n",
        "all_data['diff'] = all_data.groupby('user_id')['time'].transform(pd.Series.diff).fillna(0)\n",
        "\n",
        "train['diff'] = all_data.loc[train.index, 'diff']\n",
        "test['diff'] = all_data.loc[test.index, 'diff']\n",
        "dev['diff'] = all_data.loc[dev.index, 'diff']"
      ],
      "metadata": {
        "id": "I4SNU-vSQMaJ"
      },
      "execution_count": 8,
      "outputs": []
    },
    {
      "cell_type": "code",
      "source": [
        "#Нормируем непрерывные признаки\n",
        "train['time1'] = np.vectorize(lambda x: np.sum(train['time'] <= x) / train.shape[0])(train['time'])\n",
        "test['time1'] = np.vectorize(lambda x: np.sum(train['time'] <= x) / train.shape[0])(test['time'])\n",
        "dev['time1'] = np.vectorize(lambda x: np.sum(train['time'] <= x) / train.shape[0])(dev['time'])\n",
        "\n",
        "train['diff1'] = np.vectorize(lambda x: np.sum(train['diff'] <= x) / train.shape[0])(train['diff'])\n",
        "test['diff1'] = np.vectorize(lambda x: np.sum(train['diff'] <= x) / train.shape[0])(test['diff'])\n",
        "dev['diff1'] = np.vectorize(lambda x: np.sum(train['diff'] <= x) / train.shape[0])(dev['diff'])"
      ],
      "metadata": {
        "id": "bs8rZRSzRlD2"
      },
      "execution_count": 9,
      "outputs": []
    },
    {
      "cell_type": "code",
      "source": [
        "train.to_csv('drive/My Drive/repos/ReChorus/data/amazon_electronics1/train.csv', sep='\\t', index=False)\n",
        "test.to_csv('drive/My Drive/repos/ReChorus/data/amazon_electronics1/test.csv', sep='\\t', index=False)\n",
        "dev.to_csv('drive/My Drive/repos/ReChorus/data/amazon_electronics1/dev.csv', sep='\\t', index=False)"
      ],
      "metadata": {
        "id": "-xwHY_5JSLR_"
      },
      "execution_count": 12,
      "outputs": []
    },
    {
      "cell_type": "code",
      "source": [
        ""
      ],
      "metadata": {
        "id": "lmFYc2ajS5gs"
      },
      "execution_count": null,
      "outputs": []
    }
  ]
}